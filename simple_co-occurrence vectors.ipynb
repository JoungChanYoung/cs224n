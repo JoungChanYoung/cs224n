{
 "cells": [
  {
   "cell_type": "code",
   "execution_count": 1,
   "metadata": {},
   "outputs": [],
   "source": [
    "import matplotlib.pyplot as plt\n",
    "import numpy as np"
   ]
  },
  {
   "cell_type": "code",
   "execution_count": 2,
   "metadata": {},
   "outputs": [],
   "source": [
    "#corpus:\n",
    "'''\n",
    "I like deep learning. \n",
    "I like NLP. \n",
    "I enjoy flying.\n",
    "'''\n",
    "words = [\"I\", \"like\", \"enjoy\", \"deep\", \"learning\", \"NLP\", \"flying\", \".\"]\n",
    "\n",
    "X = np.array([[0,2,1,0,0,0,0,0],\n",
    "            [2,0,0,1,0,1,0,0],\n",
    "            [1,0,0,0,0,0,1,0],\n",
    "            [0,1,0,0,1,0,0,0],\n",
    "            [0,0,0,1,0,0,0,1],\n",
    "            [0,1,0,0,0,0,0,1],\n",
    "            [0,0,1,0,0,0,0,1],\n",
    "            [0,0,0,0,1,1,1,0]])"
   ]
  },
  {
   "cell_type": "code",
   "execution_count": 3,
   "metadata": {},
   "outputs": [],
   "source": [
    "la = np.linalg\n",
    "U, s, vh = la.svd(X, full_matrices=False)"
   ]
  },
  {
   "cell_type": "code",
   "execution_count": 4,
   "metadata": {},
   "outputs": [
    {
     "data": {
      "image/png": "[encoded data removed]",
      "text/plain": [
       "<Figure size 432x288 with 1 Axes>"
      ]
     },
     "metadata": {
      "needs_background": "light"
     },
     "output_type": "display_data"
    }
   ],
   "source": [
    "for i in range(len(words)):\n",
    "    plt.text(U[i,0],U[i,1],words[i])\n",
    "plt.axis([-1,1,-1,1])\n",
    "plt.show()"
   ]
  }
 ],
 "metadata": {
  "kernelspec": {
   "display_name": "Python 3",
   "language": "python",
   "name": "python3"
  },
  "language_info": {
   "codemirror_mode": {
    "name": "ipython",
    "version": 3
   },
   "file_extension": ".py",
   "mimetype": "text/x-python",
   "name": "python",
   "nbconvert_exporter": "python",
   "pygments_lexer": "ipython3",
   "version": "3.6.7"
  }
 },
 "nbformat": 4,
 "nbformat_minor": 2
}
